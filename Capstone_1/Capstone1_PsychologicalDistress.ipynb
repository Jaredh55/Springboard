{
 "cells": [
  {
   "cell_type": "markdown",
   "metadata": {},
   "source": [
    "Capstone 1: Predicting Psychological Distress"
   ]
  },
  {
   "cell_type": "markdown",
   "metadata": {},
   "source": [
    "Step 1: Data Cleaning"
   ]
  },
  {
   "cell_type": "markdown",
   "metadata": {},
   "source": [
    "Data from http://healthpolicy.ucla.edu/chis/Pages/default.aspx"
   ]
  },
  {
   "cell_type": "code",
   "execution_count": 31,
   "metadata": {},
   "outputs": [],
   "source": [
    "#Import Packages\n",
    "import pandas as pd\n",
    "import numpy as np\n",
    "import matplotlib.pyplot as plt\n",
    "import seaborn as sns\n",
    "\n",
    "from sklearn.preprocessing import OneHotEncoder\n",
    "from sklearn.preprocessing import StandardScaler\n",
    "\n",
    "from scipy.stats import ttest_ind\n",
    "from scipy.stats import chi2\n",
    "from scipy.stats import chi2_contingency\n",
    "\n",
    "import sklearn.metrics as metrics\n",
    "from sklearn.model_selection import train_test_split\n",
    "from sklearn.model_selection import GridSearchCV\n",
    "from sklearn.ensemble import RandomForestClassifier\n",
    "from sklearn.ensemble import GradientBoostingClassifier\n",
    "from sklearn.linear_model import LogisticRegression\n",
    "from sklearn.neighbors import KNeighborsClassifier\n",
    "from sklearn.ensemble import VotingClassifier\n",
    "\n",
    "from sklearn.feature_selection import RFECV"
   ]
  },
  {
   "cell_type": "code",
   "execution_count": 32,
   "metadata": {},
   "outputs": [],
   "source": [
    "#Read Data\n",
    "data = pd.read_sas(\"data/adult.sas7bdat\")\n",
    "labels = pd.read_csv('data/adult_label.sas', sep=\"=\", header = 0)\n",
    "formats = pd.read_csv('data/adult_format.sas', sep=\"\\s+\", header=0)"
   ]
  },
  {
   "cell_type": "code",
   "execution_count": 33,
   "metadata": {},
   "outputs": [
    {
     "data": {
      "text/html": [
       "<div>\n",
       "<style scoped>\n",
       "    .dataframe tbody tr th:only-of-type {\n",
       "        vertical-align: middle;\n",
       "    }\n",
       "\n",
       "    .dataframe tbody tr th {\n",
       "        vertical-align: top;\n",
       "    }\n",
       "\n",
       "    .dataframe thead th {\n",
       "        text-align: right;\n",
       "    }\n",
       "</style>\n",
       "<table border=\"1\" class=\"dataframe\">\n",
       "  <thead>\n",
       "    <tr style=\"text-align: right;\">\n",
       "      <th></th>\n",
       "      <th>AA5C</th>\n",
       "      <th>AB1</th>\n",
       "      <th>AB17</th>\n",
       "      <th>AB40</th>\n",
       "      <th>AB41</th>\n",
       "      <th>AB43</th>\n",
       "      <th>AB98</th>\n",
       "      <th>AB22</th>\n",
       "      <th>AB99</th>\n",
       "      <th>AB24</th>\n",
       "      <th>...</th>\n",
       "      <th>RAKEDW71</th>\n",
       "      <th>RAKEDW72</th>\n",
       "      <th>RAKEDW73</th>\n",
       "      <th>RAKEDW74</th>\n",
       "      <th>RAKEDW75</th>\n",
       "      <th>RAKEDW76</th>\n",
       "      <th>RAKEDW77</th>\n",
       "      <th>RAKEDW78</th>\n",
       "      <th>RAKEDW79</th>\n",
       "      <th>RAKEDW80</th>\n",
       "    </tr>\n",
       "  </thead>\n",
       "  <tbody>\n",
       "    <tr>\n",
       "      <th>21145</th>\n",
       "      <td>NaN</td>\n",
       "      <td>4.0</td>\n",
       "      <td>2.0</td>\n",
       "      <td>NaN</td>\n",
       "      <td>NaN</td>\n",
       "      <td>NaN</td>\n",
       "      <td>NaN</td>\n",
       "      <td>2.0</td>\n",
       "      <td>1.0</td>\n",
       "      <td>NaN</td>\n",
       "      <td>...</td>\n",
       "      <td>5088.729442</td>\n",
       "      <td>4770.000660</td>\n",
       "      <td>5216.366559</td>\n",
       "      <td>4707.561299</td>\n",
       "      <td>4703.567018</td>\n",
       "      <td>5267.524416</td>\n",
       "      <td>4968.267433</td>\n",
       "      <td>4918.001716</td>\n",
       "      <td>5028.950780</td>\n",
       "      <td>4806.546705</td>\n",
       "    </tr>\n",
       "    <tr>\n",
       "      <th>21146</th>\n",
       "      <td>NaN</td>\n",
       "      <td>2.0</td>\n",
       "      <td>2.0</td>\n",
       "      <td>NaN</td>\n",
       "      <td>NaN</td>\n",
       "      <td>NaN</td>\n",
       "      <td>NaN</td>\n",
       "      <td>2.0</td>\n",
       "      <td>2.0</td>\n",
       "      <td>NaN</td>\n",
       "      <td>...</td>\n",
       "      <td>1190.869548</td>\n",
       "      <td>1169.937516</td>\n",
       "      <td>1181.456280</td>\n",
       "      <td>1179.692599</td>\n",
       "      <td>1184.624914</td>\n",
       "      <td>1177.753053</td>\n",
       "      <td>1139.878279</td>\n",
       "      <td>1253.028286</td>\n",
       "      <td>1163.102790</td>\n",
       "      <td>1207.593124</td>\n",
       "    </tr>\n",
       "    <tr>\n",
       "      <th>21147</th>\n",
       "      <td>NaN</td>\n",
       "      <td>2.0</td>\n",
       "      <td>2.0</td>\n",
       "      <td>NaN</td>\n",
       "      <td>NaN</td>\n",
       "      <td>NaN</td>\n",
       "      <td>NaN</td>\n",
       "      <td>1.0</td>\n",
       "      <td>1.0</td>\n",
       "      <td>1.0</td>\n",
       "      <td>...</td>\n",
       "      <td>2119.722107</td>\n",
       "      <td>2029.294617</td>\n",
       "      <td>2148.677633</td>\n",
       "      <td>2014.806671</td>\n",
       "      <td>2055.090999</td>\n",
       "      <td>2127.905676</td>\n",
       "      <td>2024.376610</td>\n",
       "      <td>2207.089088</td>\n",
       "      <td>1951.723791</td>\n",
       "      <td>2317.924681</td>\n",
       "    </tr>\n",
       "    <tr>\n",
       "      <th>21148</th>\n",
       "      <td>NaN</td>\n",
       "      <td>4.0</td>\n",
       "      <td>2.0</td>\n",
       "      <td>NaN</td>\n",
       "      <td>NaN</td>\n",
       "      <td>NaN</td>\n",
       "      <td>NaN</td>\n",
       "      <td>2.0</td>\n",
       "      <td>2.0</td>\n",
       "      <td>NaN</td>\n",
       "      <td>...</td>\n",
       "      <td>1322.954103</td>\n",
       "      <td>1474.503676</td>\n",
       "      <td>1417.676179</td>\n",
       "      <td>1384.670592</td>\n",
       "      <td>1375.455887</td>\n",
       "      <td>1427.110297</td>\n",
       "      <td>1418.392983</td>\n",
       "      <td>1328.936250</td>\n",
       "      <td>1377.774001</td>\n",
       "      <td>1414.208651</td>\n",
       "    </tr>\n",
       "    <tr>\n",
       "      <th>21149</th>\n",
       "      <td>NaN</td>\n",
       "      <td>4.0</td>\n",
       "      <td>2.0</td>\n",
       "      <td>NaN</td>\n",
       "      <td>NaN</td>\n",
       "      <td>NaN</td>\n",
       "      <td>NaN</td>\n",
       "      <td>2.0</td>\n",
       "      <td>2.0</td>\n",
       "      <td>NaN</td>\n",
       "      <td>...</td>\n",
       "      <td>7268.491527</td>\n",
       "      <td>6656.538267</td>\n",
       "      <td>7094.919583</td>\n",
       "      <td>6880.847710</td>\n",
       "      <td>6858.592959</td>\n",
       "      <td>6849.272946</td>\n",
       "      <td>6661.410439</td>\n",
       "      <td>7431.478774</td>\n",
       "      <td>7230.218936</td>\n",
       "      <td>6982.443598</td>\n",
       "    </tr>\n",
       "  </tbody>\n",
       "</table>\n",
       "<p>5 rows × 483 columns</p>\n",
       "</div>"
      ],
      "text/plain": [
       "       AA5C  AB1  AB17  AB40  AB41  AB43  AB98  AB22  AB99  AB24     ...       \\\n",
       "21145   NaN  4.0   2.0   NaN   NaN   NaN   NaN   2.0   1.0   NaN     ...        \n",
       "21146   NaN  2.0   2.0   NaN   NaN   NaN   NaN   2.0   2.0   NaN     ...        \n",
       "21147   NaN  2.0   2.0   NaN   NaN   NaN   NaN   1.0   1.0   1.0     ...        \n",
       "21148   NaN  4.0   2.0   NaN   NaN   NaN   NaN   2.0   2.0   NaN     ...        \n",
       "21149   NaN  4.0   2.0   NaN   NaN   NaN   NaN   2.0   2.0   NaN     ...        \n",
       "\n",
       "          RAKEDW71     RAKEDW72     RAKEDW73     RAKEDW74     RAKEDW75  \\\n",
       "21145  5088.729442  4770.000660  5216.366559  4707.561299  4703.567018   \n",
       "21146  1190.869548  1169.937516  1181.456280  1179.692599  1184.624914   \n",
       "21147  2119.722107  2029.294617  2148.677633  2014.806671  2055.090999   \n",
       "21148  1322.954103  1474.503676  1417.676179  1384.670592  1375.455887   \n",
       "21149  7268.491527  6656.538267  7094.919583  6880.847710  6858.592959   \n",
       "\n",
       "          RAKEDW76     RAKEDW77     RAKEDW78     RAKEDW79     RAKEDW80  \n",
       "21145  5267.524416  4968.267433  4918.001716  5028.950780  4806.546705  \n",
       "21146  1177.753053  1139.878279  1253.028286  1163.102790  1207.593124  \n",
       "21147  2127.905676  2024.376610  2207.089088  1951.723791  2317.924681  \n",
       "21148  1427.110297  1418.392983  1328.936250  1377.774001  1414.208651  \n",
       "21149  6849.272946  6661.410439  7431.478774  7230.218936  6982.443598  \n",
       "\n",
       "[5 rows x 483 columns]"
      ]
     },
     "execution_count": 33,
     "metadata": {},
     "output_type": "execute_result"
    }
   ],
   "source": [
    "#Delete Proxy interviews, replace -1\n",
    "proxies = data.loc[data.PROXY == 1].index\n",
    "data = data.drop(proxies)\n",
    "data = data.replace(-1.0, np.nan)\n",
    "data.reset_index(drop=True, inplace=True)\n",
    "data.tail()"
   ]
  },
  {
   "cell_type": "markdown",
   "metadata": {},
   "source": [
    "Manually selected columns. Only using questions asked to all respondents, removed columns that included duplicate information from other questions, selected columns of interest"
   ]
  },
  {
   "cell_type": "code",
   "execution_count": 34,
   "metadata": {},
   "outputs": [
    {
     "data": {
      "text/plain": [
       "(21150, 78)"
      ]
     },
     "execution_count": 34,
     "metadata": {},
     "output_type": "execute_result"
    }
   ],
   "source": [
    "#Select Columns\n",
    "select_cols_df = pd.read_csv(\"select_cols.csv\")\n",
    "select_cols = list(select_cols_df[\"select_cols\"])\n",
    "selected_data = data[select_cols]\n",
    "selected_data.shape"
   ]
  },
  {
   "cell_type": "code",
   "execution_count": 35,
   "metadata": {},
   "outputs": [],
   "source": [
    "#Convert column names to readable labels\n",
    "col_dict = labels.to_dict()\n",
    "col_dict = col_dict[\"LABEL\"]\n",
    "col_dict.pop(\";\")\n",
    "str_col_dict = {}\n",
    "\n",
    "for k, v in col_dict.items():\n",
    "    k_new = k.strip()\n",
    "    v_new = v.strip().strip(\"\\\"\")\n",
    "    str_col_dict[k_new] = v_new\n",
    "    \n",
    "cols = selected_data.columns\n",
    "new_cols = [str_col_dict[val] for val in cols]\n",
    "selected_data.columns = new_cols"
   ]
  },
  {
   "cell_type": "code",
   "execution_count": 36,
   "metadata": {},
   "outputs": [
    {
     "data": {
      "text/html": [
       "<div>\n",
       "<style scoped>\n",
       "    .dataframe tbody tr th:only-of-type {\n",
       "        vertical-align: middle;\n",
       "    }\n",
       "\n",
       "    .dataframe tbody tr th {\n",
       "        vertical-align: top;\n",
       "    }\n",
       "\n",
       "    .dataframe thead th {\n",
       "        text-align: right;\n",
       "    }\n",
       "</style>\n",
       "<table border=\"1\" class=\"dataframe\">\n",
       "  <thead>\n",
       "    <tr style=\"text-align: right;\">\n",
       "      <th></th>\n",
       "      <th>x0_1.0</th>\n",
       "      <th>x0_2.0</th>\n",
       "      <th>x0_3.0</th>\n",
       "      <th>x1_1.0</th>\n",
       "      <th>x1_2.0</th>\n",
       "      <th>x1_3.0</th>\n",
       "      <th>x2_1.0</th>\n",
       "      <th>x2_2.0</th>\n",
       "      <th>x2_3.0</th>\n",
       "      <th>x2_4.0</th>\n",
       "      <th>...</th>\n",
       "      <th>x12_2.0</th>\n",
       "      <th>x12_3.0</th>\n",
       "      <th>x12_4.0</th>\n",
       "      <th>x12_5.0</th>\n",
       "      <th>x13_1.0</th>\n",
       "      <th>x13_2.0</th>\n",
       "      <th>x13_3.0</th>\n",
       "      <th>x14_1.0</th>\n",
       "      <th>x14_2.0</th>\n",
       "      <th>x14_3.0</th>\n",
       "    </tr>\n",
       "  </thead>\n",
       "  <tbody>\n",
       "    <tr>\n",
       "      <th>0</th>\n",
       "      <td>1.0</td>\n",
       "      <td>0.0</td>\n",
       "      <td>0.0</td>\n",
       "      <td>0.0</td>\n",
       "      <td>1.0</td>\n",
       "      <td>0.0</td>\n",
       "      <td>0.0</td>\n",
       "      <td>0.0</td>\n",
       "      <td>0.0</td>\n",
       "      <td>1.0</td>\n",
       "      <td>...</td>\n",
       "      <td>1.0</td>\n",
       "      <td>0.0</td>\n",
       "      <td>0.0</td>\n",
       "      <td>0.0</td>\n",
       "      <td>1.0</td>\n",
       "      <td>0.0</td>\n",
       "      <td>0.0</td>\n",
       "      <td>1.0</td>\n",
       "      <td>0.0</td>\n",
       "      <td>0.0</td>\n",
       "    </tr>\n",
       "    <tr>\n",
       "      <th>1</th>\n",
       "      <td>0.0</td>\n",
       "      <td>1.0</td>\n",
       "      <td>0.0</td>\n",
       "      <td>1.0</td>\n",
       "      <td>0.0</td>\n",
       "      <td>0.0</td>\n",
       "      <td>0.0</td>\n",
       "      <td>0.0</td>\n",
       "      <td>0.0</td>\n",
       "      <td>1.0</td>\n",
       "      <td>...</td>\n",
       "      <td>0.0</td>\n",
       "      <td>0.0</td>\n",
       "      <td>0.0</td>\n",
       "      <td>0.0</td>\n",
       "      <td>1.0</td>\n",
       "      <td>0.0</td>\n",
       "      <td>0.0</td>\n",
       "      <td>1.0</td>\n",
       "      <td>0.0</td>\n",
       "      <td>0.0</td>\n",
       "    </tr>\n",
       "    <tr>\n",
       "      <th>2</th>\n",
       "      <td>1.0</td>\n",
       "      <td>0.0</td>\n",
       "      <td>0.0</td>\n",
       "      <td>1.0</td>\n",
       "      <td>0.0</td>\n",
       "      <td>0.0</td>\n",
       "      <td>0.0</td>\n",
       "      <td>0.0</td>\n",
       "      <td>0.0</td>\n",
       "      <td>1.0</td>\n",
       "      <td>...</td>\n",
       "      <td>1.0</td>\n",
       "      <td>0.0</td>\n",
       "      <td>0.0</td>\n",
       "      <td>0.0</td>\n",
       "      <td>1.0</td>\n",
       "      <td>0.0</td>\n",
       "      <td>0.0</td>\n",
       "      <td>1.0</td>\n",
       "      <td>0.0</td>\n",
       "      <td>0.0</td>\n",
       "    </tr>\n",
       "    <tr>\n",
       "      <th>3</th>\n",
       "      <td>0.0</td>\n",
       "      <td>1.0</td>\n",
       "      <td>0.0</td>\n",
       "      <td>1.0</td>\n",
       "      <td>0.0</td>\n",
       "      <td>0.0</td>\n",
       "      <td>0.0</td>\n",
       "      <td>0.0</td>\n",
       "      <td>0.0</td>\n",
       "      <td>1.0</td>\n",
       "      <td>...</td>\n",
       "      <td>1.0</td>\n",
       "      <td>0.0</td>\n",
       "      <td>0.0</td>\n",
       "      <td>0.0</td>\n",
       "      <td>1.0</td>\n",
       "      <td>0.0</td>\n",
       "      <td>0.0</td>\n",
       "      <td>1.0</td>\n",
       "      <td>0.0</td>\n",
       "      <td>0.0</td>\n",
       "    </tr>\n",
       "    <tr>\n",
       "      <th>4</th>\n",
       "      <td>0.0</td>\n",
       "      <td>1.0</td>\n",
       "      <td>0.0</td>\n",
       "      <td>0.0</td>\n",
       "      <td>1.0</td>\n",
       "      <td>0.0</td>\n",
       "      <td>1.0</td>\n",
       "      <td>0.0</td>\n",
       "      <td>0.0</td>\n",
       "      <td>0.0</td>\n",
       "      <td>...</td>\n",
       "      <td>0.0</td>\n",
       "      <td>0.0</td>\n",
       "      <td>0.0</td>\n",
       "      <td>0.0</td>\n",
       "      <td>0.0</td>\n",
       "      <td>1.0</td>\n",
       "      <td>0.0</td>\n",
       "      <td>1.0</td>\n",
       "      <td>0.0</td>\n",
       "      <td>0.0</td>\n",
       "    </tr>\n",
       "  </tbody>\n",
       "</table>\n",
       "<p>5 rows × 58 columns</p>\n",
       "</div>"
      ],
      "text/plain": [
       "   x0_1.0  x0_2.0  x0_3.0  x1_1.0  x1_2.0  x1_3.0  x2_1.0  x2_2.0  x2_3.0  \\\n",
       "0     1.0     0.0     0.0     0.0     1.0     0.0     0.0     0.0     0.0   \n",
       "1     0.0     1.0     0.0     1.0     0.0     0.0     0.0     0.0     0.0   \n",
       "2     1.0     0.0     0.0     1.0     0.0     0.0     0.0     0.0     0.0   \n",
       "3     0.0     1.0     0.0     1.0     0.0     0.0     0.0     0.0     0.0   \n",
       "4     0.0     1.0     0.0     0.0     1.0     0.0     1.0     0.0     0.0   \n",
       "\n",
       "   x2_4.0   ...     x12_2.0  x12_3.0  x12_4.0  x12_5.0  x13_1.0  x13_2.0  \\\n",
       "0     1.0   ...         1.0      0.0      0.0      0.0      1.0      0.0   \n",
       "1     1.0   ...         0.0      0.0      0.0      0.0      1.0      0.0   \n",
       "2     1.0   ...         1.0      0.0      0.0      0.0      1.0      0.0   \n",
       "3     1.0   ...         1.0      0.0      0.0      0.0      1.0      0.0   \n",
       "4     0.0   ...         0.0      0.0      0.0      0.0      0.0      1.0   \n",
       "\n",
       "   x13_3.0  x14_1.0  x14_2.0  x14_3.0  \n",
       "0      0.0      1.0      0.0      0.0  \n",
       "1      0.0      1.0      0.0      0.0  \n",
       "2      0.0      1.0      0.0      0.0  \n",
       "3      0.0      1.0      0.0      0.0  \n",
       "4      0.0      1.0      0.0      0.0  \n",
       "\n",
       "[5 rows x 58 columns]"
      ]
     },
     "execution_count": 36,
     "metadata": {},
     "output_type": "execute_result"
    }
   ],
   "source": [
    "#One-Hot-Encoding Categorical Columns\n",
    "categorical_cols = list(select_cols_df.loc[select_cols_df.type == \"cat\",[\"select_cols\"]][\"select_cols\"])\n",
    "categorical_cols = [str_col_dict[val] for val in categorical_cols]\n",
    "categorical_data = selected_data[categorical_cols]\n",
    "enc = OneHotEncoder(categories='auto', sparse=False)\n",
    "enc_cat_data = pd.DataFrame(enc.fit_transform(categorical_data))\n",
    "enc_cat_data.columns = enc.get_feature_names()\n",
    "enc_cat_data.head()"
   ]
  },
  {
   "cell_type": "code",
   "execution_count": 37,
   "metadata": {},
   "outputs": [
    {
     "data": {
      "text/html": [
       "<div>\n",
       "<style scoped>\n",
       "    .dataframe tbody tr th:only-of-type {\n",
       "        vertical-align: middle;\n",
       "    }\n",
       "\n",
       "    .dataframe tbody tr th {\n",
       "        vertical-align: top;\n",
       "    }\n",
       "\n",
       "    .dataframe thead th {\n",
       "        text-align: right;\n",
       "    }\n",
       "</style>\n",
       "<table border=\"1\" class=\"dataframe\">\n",
       "  <thead>\n",
       "    <tr style=\"text-align: right;\">\n",
       "      <th></th>\n",
       "      <th>DOCTOR EVER TOLD HAVE HIGH BLOOD PRESSURE_1.0</th>\n",
       "      <th>DOCTOR EVER TOLD HAVE HIGH BLOOD PRESSURE_2.0</th>\n",
       "      <th>DOCTOR EVER TOLD HAVE HIGH BLOOD PRESSURE_3.0</th>\n",
       "      <th>WALKED AT LEAST 10 MIN FOR TRANSPORT PAST 7 DAYS_1.0</th>\n",
       "      <th>WALKED AT LEAST 10 MIN FOR TRANSPORT PAST 7 DAYS_2.0</th>\n",
       "      <th>WALKED AT LEAST 10 MIN FOR TRANSPORT PAST 7 DAYS_3.0</th>\n",
       "      <th>WORK STATUS LAST WEEK_1.0</th>\n",
       "      <th>WORK STATUS LAST WEEK_2.0</th>\n",
       "      <th>WORK STATUS LAST WEEK_3.0</th>\n",
       "      <th>WORK STATUS LAST WEEK_4.0</th>\n",
       "      <th>...</th>\n",
       "      <th>USUAL SOURCE OF CARE (5 LVLS)_2.0</th>\n",
       "      <th>USUAL SOURCE OF CARE (5 LVLS)_3.0</th>\n",
       "      <th>USUAL SOURCE OF CARE (5 LVLS)_4.0</th>\n",
       "      <th>USUAL SOURCE OF CARE (5 LVLS)_5.0</th>\n",
       "      <th>VOTED IN 2016 PRESIDENTIAL ELECTION_1.0</th>\n",
       "      <th>VOTED IN 2016 PRESIDENTIAL ELECTION_2.0</th>\n",
       "      <th>VOTED IN 2016 PRESIDENTIAL ELECTION_3.0</th>\n",
       "      <th>CURRENTLY REGISTERED TO VOTE_1.0</th>\n",
       "      <th>CURRENTLY REGISTERED TO VOTE_2.0</th>\n",
       "      <th>CURRENTLY REGISTERED TO VOTE_3.0</th>\n",
       "    </tr>\n",
       "  </thead>\n",
       "  <tbody>\n",
       "    <tr>\n",
       "      <th>0</th>\n",
       "      <td>1.0</td>\n",
       "      <td>0.0</td>\n",
       "      <td>0.0</td>\n",
       "      <td>0.0</td>\n",
       "      <td>1.0</td>\n",
       "      <td>0.0</td>\n",
       "      <td>0.0</td>\n",
       "      <td>0.0</td>\n",
       "      <td>0.0</td>\n",
       "      <td>1.0</td>\n",
       "      <td>...</td>\n",
       "      <td>1.0</td>\n",
       "      <td>0.0</td>\n",
       "      <td>0.0</td>\n",
       "      <td>0.0</td>\n",
       "      <td>1.0</td>\n",
       "      <td>0.0</td>\n",
       "      <td>0.0</td>\n",
       "      <td>1.0</td>\n",
       "      <td>0.0</td>\n",
       "      <td>0.0</td>\n",
       "    </tr>\n",
       "    <tr>\n",
       "      <th>1</th>\n",
       "      <td>0.0</td>\n",
       "      <td>1.0</td>\n",
       "      <td>0.0</td>\n",
       "      <td>1.0</td>\n",
       "      <td>0.0</td>\n",
       "      <td>0.0</td>\n",
       "      <td>0.0</td>\n",
       "      <td>0.0</td>\n",
       "      <td>0.0</td>\n",
       "      <td>1.0</td>\n",
       "      <td>...</td>\n",
       "      <td>0.0</td>\n",
       "      <td>0.0</td>\n",
       "      <td>0.0</td>\n",
       "      <td>0.0</td>\n",
       "      <td>1.0</td>\n",
       "      <td>0.0</td>\n",
       "      <td>0.0</td>\n",
       "      <td>1.0</td>\n",
       "      <td>0.0</td>\n",
       "      <td>0.0</td>\n",
       "    </tr>\n",
       "    <tr>\n",
       "      <th>2</th>\n",
       "      <td>1.0</td>\n",
       "      <td>0.0</td>\n",
       "      <td>0.0</td>\n",
       "      <td>1.0</td>\n",
       "      <td>0.0</td>\n",
       "      <td>0.0</td>\n",
       "      <td>0.0</td>\n",
       "      <td>0.0</td>\n",
       "      <td>0.0</td>\n",
       "      <td>1.0</td>\n",
       "      <td>...</td>\n",
       "      <td>1.0</td>\n",
       "      <td>0.0</td>\n",
       "      <td>0.0</td>\n",
       "      <td>0.0</td>\n",
       "      <td>1.0</td>\n",
       "      <td>0.0</td>\n",
       "      <td>0.0</td>\n",
       "      <td>1.0</td>\n",
       "      <td>0.0</td>\n",
       "      <td>0.0</td>\n",
       "    </tr>\n",
       "    <tr>\n",
       "      <th>3</th>\n",
       "      <td>0.0</td>\n",
       "      <td>1.0</td>\n",
       "      <td>0.0</td>\n",
       "      <td>1.0</td>\n",
       "      <td>0.0</td>\n",
       "      <td>0.0</td>\n",
       "      <td>0.0</td>\n",
       "      <td>0.0</td>\n",
       "      <td>0.0</td>\n",
       "      <td>1.0</td>\n",
       "      <td>...</td>\n",
       "      <td>1.0</td>\n",
       "      <td>0.0</td>\n",
       "      <td>0.0</td>\n",
       "      <td>0.0</td>\n",
       "      <td>1.0</td>\n",
       "      <td>0.0</td>\n",
       "      <td>0.0</td>\n",
       "      <td>1.0</td>\n",
       "      <td>0.0</td>\n",
       "      <td>0.0</td>\n",
       "    </tr>\n",
       "    <tr>\n",
       "      <th>4</th>\n",
       "      <td>0.0</td>\n",
       "      <td>1.0</td>\n",
       "      <td>0.0</td>\n",
       "      <td>0.0</td>\n",
       "      <td>1.0</td>\n",
       "      <td>0.0</td>\n",
       "      <td>1.0</td>\n",
       "      <td>0.0</td>\n",
       "      <td>0.0</td>\n",
       "      <td>0.0</td>\n",
       "      <td>...</td>\n",
       "      <td>0.0</td>\n",
       "      <td>0.0</td>\n",
       "      <td>0.0</td>\n",
       "      <td>0.0</td>\n",
       "      <td>0.0</td>\n",
       "      <td>1.0</td>\n",
       "      <td>0.0</td>\n",
       "      <td>1.0</td>\n",
       "      <td>0.0</td>\n",
       "      <td>0.0</td>\n",
       "    </tr>\n",
       "  </tbody>\n",
       "</table>\n",
       "<p>5 rows × 58 columns</p>\n",
       "</div>"
      ],
      "text/plain": [
       "   DOCTOR EVER TOLD HAVE HIGH BLOOD PRESSURE_1.0  \\\n",
       "0                                            1.0   \n",
       "1                                            0.0   \n",
       "2                                            1.0   \n",
       "3                                            0.0   \n",
       "4                                            0.0   \n",
       "\n",
       "   DOCTOR EVER TOLD HAVE HIGH BLOOD PRESSURE_2.0  \\\n",
       "0                                            0.0   \n",
       "1                                            1.0   \n",
       "2                                            0.0   \n",
       "3                                            1.0   \n",
       "4                                            1.0   \n",
       "\n",
       "   DOCTOR EVER TOLD HAVE HIGH BLOOD PRESSURE_3.0  \\\n",
       "0                                            0.0   \n",
       "1                                            0.0   \n",
       "2                                            0.0   \n",
       "3                                            0.0   \n",
       "4                                            0.0   \n",
       "\n",
       "   WALKED AT LEAST 10 MIN FOR TRANSPORT PAST 7 DAYS_1.0  \\\n",
       "0                                                0.0      \n",
       "1                                                1.0      \n",
       "2                                                1.0      \n",
       "3                                                1.0      \n",
       "4                                                0.0      \n",
       "\n",
       "   WALKED AT LEAST 10 MIN FOR TRANSPORT PAST 7 DAYS_2.0  \\\n",
       "0                                                1.0      \n",
       "1                                                0.0      \n",
       "2                                                0.0      \n",
       "3                                                0.0      \n",
       "4                                                1.0      \n",
       "\n",
       "   WALKED AT LEAST 10 MIN FOR TRANSPORT PAST 7 DAYS_3.0  \\\n",
       "0                                                0.0      \n",
       "1                                                0.0      \n",
       "2                                                0.0      \n",
       "3                                                0.0      \n",
       "4                                                0.0      \n",
       "\n",
       "   WORK STATUS LAST WEEK_1.0  WORK STATUS LAST WEEK_2.0  \\\n",
       "0                        0.0                        0.0   \n",
       "1                        0.0                        0.0   \n",
       "2                        0.0                        0.0   \n",
       "3                        0.0                        0.0   \n",
       "4                        1.0                        0.0   \n",
       "\n",
       "   WORK STATUS LAST WEEK_3.0  WORK STATUS LAST WEEK_4.0  \\\n",
       "0                        0.0                        1.0   \n",
       "1                        0.0                        1.0   \n",
       "2                        0.0                        1.0   \n",
       "3                        0.0                        1.0   \n",
       "4                        0.0                        0.0   \n",
       "\n",
       "                 ...                 USUAL SOURCE OF CARE (5 LVLS)_2.0  \\\n",
       "0                ...                                               1.0   \n",
       "1                ...                                               0.0   \n",
       "2                ...                                               1.0   \n",
       "3                ...                                               1.0   \n",
       "4                ...                                               0.0   \n",
       "\n",
       "   USUAL SOURCE OF CARE (5 LVLS)_3.0  USUAL SOURCE OF CARE (5 LVLS)_4.0  \\\n",
       "0                                0.0                                0.0   \n",
       "1                                0.0                                0.0   \n",
       "2                                0.0                                0.0   \n",
       "3                                0.0                                0.0   \n",
       "4                                0.0                                0.0   \n",
       "\n",
       "   USUAL SOURCE OF CARE (5 LVLS)_5.0  VOTED IN 2016 PRESIDENTIAL ELECTION_1.0  \\\n",
       "0                                0.0                                      1.0   \n",
       "1                                0.0                                      1.0   \n",
       "2                                0.0                                      1.0   \n",
       "3                                0.0                                      1.0   \n",
       "4                                0.0                                      0.0   \n",
       "\n",
       "   VOTED IN 2016 PRESIDENTIAL ELECTION_2.0  \\\n",
       "0                                      0.0   \n",
       "1                                      0.0   \n",
       "2                                      0.0   \n",
       "3                                      0.0   \n",
       "4                                      1.0   \n",
       "\n",
       "   VOTED IN 2016 PRESIDENTIAL ELECTION_3.0  CURRENTLY REGISTERED TO VOTE_1.0  \\\n",
       "0                                      0.0                               1.0   \n",
       "1                                      0.0                               1.0   \n",
       "2                                      0.0                               1.0   \n",
       "3                                      0.0                               1.0   \n",
       "4                                      0.0                               1.0   \n",
       "\n",
       "   CURRENTLY REGISTERED TO VOTE_2.0  CURRENTLY REGISTERED TO VOTE_3.0  \n",
       "0                               0.0                               0.0  \n",
       "1                               0.0                               0.0  \n",
       "2                               0.0                               0.0  \n",
       "3                               0.0                               0.0  \n",
       "4                               0.0                               0.0  \n",
       "\n",
       "[5 rows x 58 columns]"
      ]
     },
     "execution_count": 37,
     "metadata": {},
     "output_type": "execute_result"
    }
   ],
   "source": [
    "#Rename categorical columns\n",
    "renamed_cols = []\n",
    "for name in enc_cat_data.columns:\n",
    "    ind = int(name.split('_')[0].strip('x'))\n",
    "    cols = list(categorical_data.columns)\n",
    "    name = cols[ind] + name[-4:]\n",
    "    renamed_cols.append(name)\n",
    "    \n",
    "enc_cat_data.columns = renamed_cols\n",
    "enc_cat_data.head()"
   ]
  },
  {
   "cell_type": "code",
   "execution_count": 38,
   "metadata": {},
   "outputs": [
    {
     "name": "stderr",
     "output_type": "stream",
     "text": [
      "/Users/jaredhammernik/anaconda3/lib/python3.7/site-packages/pandas/core/frame.py:3697: SettingWithCopyWarning: \n",
      "A value is trying to be set on a copy of a slice from a DataFrame\n",
      "\n",
      "See the caveats in the documentation: http://pandas.pydata.org/pandas-docs/stable/indexing.html#indexing-view-versus-copy\n",
      "  errors=errors)\n"
     ]
    },
    {
     "data": {
      "text/plain": [
       "(21150, 121)"
      ]
     },
     "execution_count": 38,
     "metadata": {},
     "output_type": "execute_result"
    }
   ],
   "source": [
    "#Drop categorical columns, add one-hot-encoded columns\n",
    "selected_data.drop(categorical_cols, axis=1, inplace=True)\n",
    "selected_data = selected_data.join(enc_cat_data, how='left')\n",
    "selected_data.shape"
   ]
  },
  {
   "cell_type": "code",
   "execution_count": 39,
   "metadata": {},
   "outputs": [],
   "source": [
    "#Special column changes\n",
    "\n",
    "#99 is code for <1 glass of water, replaced with 0\n",
    "selected_data['# OF TIMES DRANK WATER YESTERDAY'] = selected_data['# OF TIMES DRANK WATER YESTERDAY'].replace(99.0, 0.0)\n",
    "\n",
    "\n",
    "#Imputing \"Doesn't shop for vegetables\" to mode\n",
    "selected_data['HOW OFTEN FIND FRESH FRUIT/VEG IN NEIGHB (PUF RECODE)'] = selected_data['HOW OFTEN FIND FRESH FRUIT/VEG IN NEIGHB (PUF RECODE)'].replace(5.0, 4.0)\n",
    "\n",
    "\n",
    "#Imputing \"Have never visited dentist\" to \"more than 5 years ago\"\n",
    "selected_data['TIME SINCE LAST VISIT TO DENTIST/SPECIALIST'] = selected_data['TIME SINCE LAST VISIT TO DENTIST/SPECIALIST'].replace(0.0, 5.0)"
   ]
  },
  {
   "cell_type": "code",
   "execution_count": 40,
   "metadata": {},
   "outputs": [],
   "source": [
    "#Identify Target Column\n",
    "# target_column = 'DSTRS12'\n",
    "target_column = 'LIKELY HAS HAD PSYCHOLOGICAL DISTRESS IN THE LAST YEAR'"
   ]
  },
  {
   "cell_type": "code",
   "execution_count": 41,
   "metadata": {},
   "outputs": [
    {
     "data": {
      "text/plain": [
       "(21150, 92)"
      ]
     },
     "execution_count": 41,
     "metadata": {},
     "output_type": "execute_result"
    }
   ],
   "source": [
    "#Remove Collinear columns\n",
    "def remove_collinear_cols(data, cutoff, target_col):\n",
    "    drop_cols = []\n",
    "    corr_mat = data.corr().abs()\n",
    "    for col in corr_mat.columns:\n",
    "        for idx, val in corr_mat[col].iteritems():\n",
    "            if val > cutoff and val < 1.:\n",
    "                idx_corr = corr_mat.loc[idx,target_col]\n",
    "                col_corr = corr_mat.loc[col,target_col]\n",
    "                if idx_corr > col_corr:\n",
    "                    drop_cols.append(col)\n",
    "                else:\n",
    "                    drop_cols.append(idx)\n",
    "    \n",
    "    drop_cols = list(dict.fromkeys(drop_cols))\n",
    "    new_data = data.drop(drop_cols, axis=1)\n",
    "    return new_data\n",
    "\n",
    "selected_data = remove_collinear_cols(selected_data, 0.5, target_column) \n",
    "selected_data.shape"
   ]
  },
  {
   "cell_type": "markdown",
   "metadata": {},
   "source": [
    " "
   ]
  },
  {
   "cell_type": "markdown",
   "metadata": {},
   "source": [
    " "
   ]
  },
  {
   "cell_type": "markdown",
   "metadata": {},
   "source": [
    " "
   ]
  },
  {
   "cell_type": "markdown",
   "metadata": {},
   "source": [
    "Step 2: Exploratory Data Analysis"
   ]
  },
  {
   "cell_type": "code",
   "execution_count": 22,
   "metadata": {},
   "outputs": [],
   "source": [
    "#Explore distribution function\n",
    "def display_distributions(data, column_name, target_col):\n",
    "    non_target = data.loc[(data[target_col] == 2), column_name]\n",
    "    target = data.loc[(data[target_col] == 1), column_name]\n",
    "    non_target.hist(density=True, histtype='step', color='blue',bins=12)\n",
    "    target.hist(density=True, histtype='step', color='red',bins=12)\n",
    "    print(ttest_ind(non_target,target,equal_var=False))\n",
    "    \n",
    "#Display Percentages function\n",
    "def display_percentages(data, column_name, target_col, yesno=False):\n",
    "    uniq = data[column_name].unique()\n",
    "    percents = []\n",
    "    for x in uniq:\n",
    "        target = len(data.loc[(data[target_col] == 1.) & (data[column_name] == x)])\n",
    "        total = len(data.loc[(data[column_name] == x)])\n",
    "        percent = (target / total ) * 100\n",
    "        percents.append(percent)\n",
    "    \n",
    "    if yesno==True:\n",
    "        uniq = [\"YES\" , \"NO\"]\n",
    "    \n",
    "    print(percents)\n",
    "    plt.title(column_name)\n",
    "    plt.ylabel(\"Percent Distressed\")\n",
    "    plt.bar(uniq, percents)\n",
    "    plt.xticks([x for x in uniq])\n",
    "    \n",
    "#Chi Squared Analysis Function\n",
    "def chi_sq(data, column_name, target_col):\n",
    "    \"\"\"Returns p-value of chi-squared analysis between two columns\"\"\"\n",
    "    \n",
    "    contingency_table = pd.crosstab(\n",
    "        data[column_name],\n",
    "        data[target_col]\n",
    "    )\n",
    "    return chi2_contingency(contingency_table)[1]"
   ]
  },
  {
   "cell_type": "markdown",
   "metadata": {},
   "source": [
    "Perform T-Tests on all continuous variables"
   ]
  },
  {
   "cell_type": "code",
   "execution_count": 15,
   "metadata": {},
   "outputs": [
    {
     "name": "stdout",
     "output_type": "stream",
     "text": [
      "Ttest_indResult(statistic=29.26523768511029, pvalue=5.95873820778149e-159)\n"
     ]
    },
    {
     "data": {
      "image/png": "[encoded data removed]",
      "text/plain": [
       "<Figure size 432x288 with 1 Axes>"
      ]
     },
     "metadata": {
      "needs_background": "light"
     },
     "output_type": "display_data"
    }
   ],
   "source": [
    "#EDA Age\n",
    "display_distributions(selected_data,'SELF-REPORTED AGE (PUF 1 YR RECODE)', target_column)"
   ]
  },
  {
   "cell_type": "markdown",
   "metadata": {},
   "source": [
    "This is interesting as it either suggests that younger people are more likely to experience psychological distress, or it suggests a generational issue that young people today are more likely to experience it since the survey did not measure this repeatedly over the course of the participants life. The distribution also seems to become less distressed around 60 years of age, which is also the typical age of retirment."
   ]
  },
  {
   "cell_type": "code",
   "execution_count": 185,
   "metadata": {},
   "outputs": [
    {
     "name": "stdout",
     "output_type": "stream",
     "text": [
      "Ttest_indResult(statistic=-1.4048675661264787, pvalue=0.16020934472512455)\n"
     ]
    },
    {
     "data": {
      "image/png": "[encoded data removed]",
      "text/plain": [
       "<Figure size 432x288 with 1 Axes>"
      ]
     },
     "metadata": {
      "needs_background": "light"
     },
     "output_type": "display_data"
    }
   ],
   "source": [
    "#EDA Weight\n",
    "display_distributions(selected_data, 'WEIGHT: LBS (PUF RECODE)', target_column)"
   ]
  },
  {
   "cell_type": "code",
   "execution_count": 187,
   "metadata": {},
   "outputs": [
    {
     "name": "stdout",
     "output_type": "stream",
     "text": [
      "Ttest_indResult(statistic=-7.573128623554172, pvalue=5.503740178629196e-14)\n"
     ]
    },
    {
     "data": {
      "image/png": "[encoded data removed]",
      "text/plain": [
       "<Figure size 432x288 with 1 Axes>"
      ]
     },
     "metadata": {
      "needs_background": "light"
     },
     "output_type": "display_data"
    }
   ],
   "source": [
    "#EDA Fruit Drinks\n",
    "display_distributions(selected_data, '# OF TIMES DRANK SWEET FRUIT DRINKS PAST MO', target_column)"
   ]
  },
  {
   "cell_type": "code",
   "execution_count": 188,
   "metadata": {},
   "outputs": [
    {
     "name": "stdout",
     "output_type": "stream",
     "text": [
      "Ttest_indResult(statistic=2.6932974258805724, pvalue=0.007131914809444713)\n"
     ]
    },
    {
     "data": {
      "image/png": "[encoded data removed]",
      "text/plain": [
       "<Figure size 432x288 with 1 Axes>"
      ]
     },
     "metadata": {
      "needs_background": "light"
     },
     "output_type": "display_data"
    }
   ],
   "source": [
    "#EDA Fruit\n",
    "display_distributions(selected_data, '# TIMES ATE FRUIT IN PAST MO', target_column)"
   ]
  },
  {
   "cell_type": "code",
   "execution_count": 189,
   "metadata": {},
   "outputs": [
    {
     "name": "stdout",
     "output_type": "stream",
     "text": [
      "Ttest_indResult(statistic=-5.6707578624150505, pvalue=1.6330737216389444e-08)\n"
     ]
    },
    {
     "data": {
      "image/png": "[encoded data removed]",
      "text/plain": [
       "<Figure size 432x288 with 1 Axes>"
      ]
     },
     "metadata": {
      "needs_background": "light"
     },
     "output_type": "display_data"
    }
   ],
   "source": [
    "#EDA French Fries\n",
    "display_distributions(selected_data, '# TIMES ATE FRNCH FRIES, HME FRIES, HSH BRWNS IN PAST MO', target_column)"
   ]
  },
  {
   "cell_type": "code",
   "execution_count": 191,
   "metadata": {},
   "outputs": [
    {
     "name": "stdout",
     "output_type": "stream",
     "text": [
      "Ttest_indResult(statistic=2.794875246990055, pvalue=0.0052392053779033365)\n"
     ]
    },
    {
     "data": {
      "image/png": "[encoded data removed]",
      "text/plain": [
       "<Figure size 432x288 with 1 Axes>"
      ]
     },
     "metadata": {
      "needs_background": "light"
     },
     "output_type": "display_data"
    }
   ],
   "source": [
    "#EDA Vegetables\n",
    "display_distributions(selected_data,'# OF TIMES ATE VEGETABLES IN PAST MO', target_column)"
   ]
  },
  {
   "cell_type": "code",
   "execution_count": 197,
   "metadata": {},
   "outputs": [
    {
     "name": "stdout",
     "output_type": "stream",
     "text": [
      "Ttest_indResult(statistic=19.658141495657674, pvalue=3.045477996682943e-79)\n"
     ]
    },
    {
     "data": {
      "image/png": "[encoded data removed]",
      "text/plain": [
       "<Figure size 432x288 with 1 Axes>"
      ]
     },
     "metadata": {
      "needs_background": "light"
     },
     "output_type": "display_data"
    }
   ],
   "source": [
    "#EDA Poverty Level\n",
    "display_distributions(selected_data, 'FAMILY POVERTY THRESHOLD LEVEL (PUF 1 YR RECODE)', target_column)"
   ]
  },
  {
   "cell_type": "markdown",
   "metadata": {},
   "source": [
    "While this shows that a lower poverty level is correlated with high psychological distress, age also showed a similar pattern and younger people are more likely to have lower poverty level. Therefore it is possible that this pattern is because of age alone, poverty alone, or both."
   ]
  },
  {
   "cell_type": "code",
   "execution_count": 16,
   "metadata": {},
   "outputs": [
    {
     "name": "stdout",
     "output_type": "stream",
     "text": [
      "[5.507543576973781, 14.813654870028186, 8.258893590346341, 4.216539717083786, 25.629077353215283]\n",
      "Chi Squared p-value: 8.879677378608013e-08\n"
     ]
    },
    {
     "data": {
      "image/png": "[encoded data removed]",
      "text/plain": [
       "<Figure size 432x288 with 1 Axes>"
      ]
     },
     "metadata": {
      "needs_background": "light"
     },
     "output_type": "display_data"
    }
   ],
   "source": [
    "#EDA General Health Condition (1 excellent, 5 poor)\n",
    "display_percentages(selected_data, \"GENERAL HEALTH CONDITION\", target_column)\n",
    "p = chi_sq(selected_data, \"SELF-REPORTED GENDER\", target_column)\n",
    "print(\"Chi Squared p-value: \" + str(p))"
   ]
  },
  {
   "cell_type": "code",
   "execution_count": 199,
   "metadata": {},
   "outputs": [
    {
     "name": "stdout",
     "output_type": "stream",
     "text": [
      "[9.455006337135615, 7.375201288244766]\n",
      "Chi Squared p-value: 8.879677378608013e-08\n"
     ]
    },
    {
     "data": {
      "image/png": "[encoded data removed]",
      "text/plain": [
       "<Figure size 432x288 with 1 Axes>"
      ]
     },
     "metadata": {
      "needs_background": "light"
     },
     "output_type": "display_data"
    }
   ],
   "source": [
    "#EDA Gender (1 Male, 2 Female)\n",
    "display_percentages(selected_data, \"SELF-REPORTED GENDER\", target_column)\n",
    "p = chi_sq(selected_data, \"SELF-REPORTED GENDER\", target_column)\n",
    "print(\"Chi Squared p-value: \" + str(p))"
   ]
  },
  {
   "cell_type": "code",
   "execution_count": 17,
   "metadata": {},
   "outputs": [
    {
     "name": "stdout",
     "output_type": "stream",
     "text": [
      "[8.429421046243476, 8.925513698630137]\n",
      "Chi Squared p-value: 0.29771533599316186\n"
     ]
    },
    {
     "data": {
      "image/png": "[encoded data removed]",
      "text/plain": [
       "<Figure size 432x288 with 1 Axes>"
      ]
     },
     "metadata": {
      "needs_background": "light"
     },
     "output_type": "display_data"
    }
   ],
   "source": [
    "#EDA Race (1 White, 2 Non-White) \n",
    "#This column was removed from selected_data, must observe using original data\n",
    "display_percentages(data, \"SRW\", \"DSTRS12\")\n",
    "p = chi_sq(data, \"SRW\", \"DSTRS12\")\n",
    "print(\"Chi Squared p-value: \" + str(p))"
   ]
  },
  {
   "cell_type": "markdown",
   "metadata": {},
   "source": [
    "Explore Collinearity with Target Column"
   ]
  },
  {
   "cell_type": "code",
   "execution_count": 18,
   "metadata": {},
   "outputs": [
    {
     "data": {
      "text/plain": [
       "LIKELY HAS HAD PSYCHOLOGICAL DISTRESS IN THE LAST YEAR                                  1.000000\n",
       "SELF-REPORTED AGE (PUF 1 YR RECODE)                                                     0.194780\n",
       "DELAY/NOT GET OTHER MEDICAL CARE IN PAST 12 MOS                                         0.194737\n",
       "EVER SMOKED ELECTRONIC CIGARETTES                                                       0.183335\n",
       "GENERAL HEALTH CONDITION                                                                0.168828\n",
       "SELF-REPORTED HOUSEHOLD TENURE (HH)_1.0                                                 0.149696\n",
       "SELF-REPORTED HOUSEHOLD TENURE (HH)_2.0                                                 0.149696\n",
       "LENGTH OF TIME LIVED AT CURRENT ADDRESS (MONTHS) (PUF RECODE)                           0.145835\n",
       "DELAY/NOT GET PRESCRIPTION IN PAST 12 MO                                                0.142322\n",
       "EVER HAD PROBLEMS PAYING FOR SELF OR HOUSEHOLD FAMILY'S MEDICAL BILLS IN PAST 12 MOS    0.140673\n",
       "Name: LIKELY HAS HAD PSYCHOLOGICAL DISTRESS IN THE LAST YEAR, dtype: float64"
      ]
     },
     "execution_count": 18,
     "metadata": {},
     "output_type": "execute_result"
    }
   ],
   "source": [
    "#Highest Correlated Variables with Target Column\n",
    "abs(selected_data.corr()[target_column]).sort_values(ascending=False).head(10)"
   ]
  },
  {
   "cell_type": "markdown",
   "metadata": {},
   "source": [
    " "
   ]
  },
  {
   "cell_type": "markdown",
   "metadata": {},
   "source": [
    " "
   ]
  },
  {
   "cell_type": "markdown",
   "metadata": {},
   "source": [
    " "
   ]
  },
  {
   "cell_type": "markdown",
   "metadata": {},
   "source": [
    " "
   ]
  },
  {
   "cell_type": "markdown",
   "metadata": {},
   "source": [
    "Step 3: Models"
   ]
  },
  {
   "cell_type": "markdown",
   "metadata": {},
   "source": [
    "3a: Preparing Data for Models"
   ]
  },
  {
   "cell_type": "code",
   "execution_count": 42,
   "metadata": {},
   "outputs": [],
   "source": [
    "#Train Test Split\n",
    "X = selected_data.drop(target_column, axis=1)\n",
    "y = selected_data[[target_column]]\n",
    "\n",
    "X_train, X_test, y_train, y_test = train_test_split(X, y, test_size=0.2, random_state=42, stratify=y)"
   ]
  },
  {
   "cell_type": "code",
   "execution_count": 43,
   "metadata": {},
   "outputs": [],
   "source": [
    "#Scale Data\n",
    "scaler = StandardScaler()\n",
    "scaled_X_train = pd.DataFrame(scaler.fit_transform(X_train), columns=X_train.columns)\n",
    "scaled_X_test = pd.DataFrame(scaler.transform(X_test), columns=X_test.columns)"
   ]
  },
  {
   "cell_type": "code",
   "execution_count": 44,
   "metadata": {},
   "outputs": [],
   "source": [
    "#Define PR AUC metric\n",
    "def precision_recall_auc(y_test, y_prob):\n",
    "    precision, recall, threshold = metrics.precision_recall_curve(y_test, (1-y_prob), pos_label=1.)    \n",
    "    return metrics.auc(recall, precision)\n",
    "    \n",
    "pr_auc = metrics.make_scorer(precision_recall_auc, greater_is_better=True, needs_proba=True)"
   ]
  },
  {
   "cell_type": "markdown",
   "metadata": {},
   "source": [
    "3b: Random Forest"
   ]
  },
  {
   "cell_type": "code",
   "execution_count": 20,
   "metadata": {},
   "outputs": [
    {
     "name": "stdout",
     "output_type": "stream",
     "text": [
      "{'class_weight': None, 'criterion': 'entropy', 'max_features': 10, 'n_estimators': 500}\n",
      "0.35080889479050836\n"
     ]
    }
   ],
   "source": [
    "#RF GridSearchCV\n",
    "n_estimator_space = [100, 200, 500]\n",
    "max_features_space = [2, 5, 10, 20]\n",
    "class_weight_space = ['balanced', 'balanced_subsample', None]\n",
    "criterion_space = ['gini', 'entropy']\n",
    "param_grid = {'n_estimators': n_estimator_space, \n",
    "              'max_features': max_features_space, \n",
    "              'class_weight': class_weight_space, \n",
    "              'criterion': criterion_space}\n",
    "rf_tune = RandomForestClassifier(random_state=42)\n",
    "rf_cv = GridSearchCV(rf_tune, param_grid, cv=3, scoring=pr_auc)\n",
    "rf_cv.fit(scaled_X_train, y_train.values.ravel())\n",
    "print(rf_cv.best_params_)\n",
    "print(rf_cv.best_score_)"
   ]
  },
  {
   "cell_type": "code",
   "execution_count": 45,
   "metadata": {},
   "outputs": [
    {
     "name": "stdout",
     "output_type": "stream",
     "text": [
      "Confusion Matrix:\n",
      "[[   5  356]\n",
      " [   5 3864]]\n",
      "Classification Report\n",
      "              precision    recall  f1-score   support\n",
      "\n",
      "         1.0       0.50      0.01      0.03       361\n",
      "         2.0       0.92      1.00      0.96      3869\n",
      "\n",
      "   micro avg       0.91      0.91      0.91      4230\n",
      "   macro avg       0.71      0.51      0.49      4230\n",
      "weighted avg       0.88      0.91      0.88      4230\n",
      "\n"
     ]
    }
   ],
   "source": [
    "#Random Forest\n",
    "rf = RandomForestClassifier(n_estimators = 500, \n",
    "                            max_features=10, \n",
    "                            random_state=42, \n",
    "                            criterion='entropy', \n",
    "                            class_weight=None)\n",
    "\n",
    "rf_model = rf.fit(scaled_X_train, y_train.values.ravel())\n",
    "y_pred = rf_model.predict(scaled_X_test)\n",
    "y_prob = rf_model.predict_proba(scaled_X_test)\n",
    "\n",
    "print(\"Confusion Matrix:\")\n",
    "print(metrics.confusion_matrix(y_test, y_pred))\n",
    "\n",
    "print(\"Classification Report\")\n",
    "print(metrics.classification_report(y_test, y_pred))"
   ]
  },
  {
   "cell_type": "code",
   "execution_count": 46,
   "metadata": {},
   "outputs": [
    {
     "data": {
      "image/png": "[encoded data removed]",
      "text/plain": [
       "<Figure size 432x288 with 1 Axes>"
      ]
     },
     "metadata": {
      "needs_background": "light"
     },
     "output_type": "display_data"
    }
   ],
   "source": [
    "#RF Histogram of Probabilities\n",
    "plt.hist(y_prob[:,0], bins=10)\n",
    "plt.show()"
   ]
  },
  {
   "cell_type": "code",
   "execution_count": 47,
   "metadata": {},
   "outputs": [
    {
     "data": {
      "image/png": "[encoded data removed]",
      "text/plain": [
       "<Figure size 432x288 with 1 Axes>"
      ]
     },
     "metadata": {
      "needs_background": "light"
     },
     "output_type": "display_data"
    }
   ],
   "source": [
    "#RF ROC Curve\n",
    "probs = y_prob[:,0]\n",
    "fpr, tpr, threshold = metrics.roc_curve(y_test, probs, pos_label=1.)\n",
    "roc_auc = metrics.auc(fpr, tpr)\n",
    "\n",
    "plt.title('Receiver Operating Characteristic')\n",
    "plt.plot(fpr, tpr, 'b', label = 'AUC = %0.2f' % roc_auc)\n",
    "plt.legend(loc = 'lower right')\n",
    "plt.plot([0, 1], [0, 1],'r--')\n",
    "plt.xlim([0, 1])\n",
    "plt.ylim([0, 1])\n",
    "plt.ylabel('True Positive Rate')\n",
    "plt.xlabel('False Positive Rate')\n",
    "plt.show()"
   ]
  },
  {
   "cell_type": "code",
   "execution_count": 48,
   "metadata": {},
   "outputs": [
    {
     "data": {
      "image/png": "[encoded data removed]",
      "text/plain": [
       "<Figure size 432x288 with 1 Axes>"
      ]
     },
     "metadata": {
      "needs_background": "light"
     },
     "output_type": "display_data"
    }
   ],
   "source": [
    "#Precision Recall Curve\n",
    "probs = y_prob[:,0]\n",
    "precision, recall, thresholds = metrics.precision_recall_curve(y_test, probs, pos_label=1.)\n",
    "prc_auc = metrics.auc(recall, precision)\n",
    "\n",
    "plt.title(\"Precision Recall Curve\")\n",
    "plt.plot(recall, precision, label= 'AUC = %0.2f' % prc_auc)\n",
    "plt.legend(loc = 'lower left')\n",
    "plt.xlim([0,1])\n",
    "plt.ylim([0,1])\n",
    "plt.xlabel('Recall')\n",
    "plt.ylabel('Precision')\n",
    "plt.show()"
   ]
  },
  {
   "cell_type": "code",
   "execution_count": 49,
   "metadata": {},
   "outputs": [
    {
     "data": {
      "text/html": [
       "<div>\n",
       "<style scoped>\n",
       "    .dataframe tbody tr th:only-of-type {\n",
       "        vertical-align: middle;\n",
       "    }\n",
       "\n",
       "    .dataframe tbody tr th {\n",
       "        vertical-align: top;\n",
       "    }\n",
       "\n",
       "    .dataframe thead th {\n",
       "        text-align: right;\n",
       "    }\n",
       "</style>\n",
       "<table border=\"1\" class=\"dataframe\">\n",
       "  <thead>\n",
       "    <tr style=\"text-align: right;\">\n",
       "      <th></th>\n",
       "      <th>feature</th>\n",
       "      <th>importance</th>\n",
       "    </tr>\n",
       "  </thead>\n",
       "  <tbody>\n",
       "    <tr>\n",
       "      <th>40</th>\n",
       "      <td>SELF-REPORTED AGE (PUF 1 YR RECODE)</td>\n",
       "      <td>0.051416</td>\n",
       "    </tr>\n",
       "    <tr>\n",
       "      <th>52</th>\n",
       "      <td>WEIGHT: LBS (PUF RECODE)</td>\n",
       "      <td>0.042661</td>\n",
       "    </tr>\n",
       "    <tr>\n",
       "      <th>38</th>\n",
       "      <td>FAMILY POVERTY THRESHOLD LEVEL (PUF 1 YR RECODE)</td>\n",
       "      <td>0.040351</td>\n",
       "    </tr>\n",
       "    <tr>\n",
       "      <th>20</th>\n",
       "      <td># OF TIMES SAW MD IN PAST 12 MOS</td>\n",
       "      <td>0.038542</td>\n",
       "    </tr>\n",
       "    <tr>\n",
       "      <th>0</th>\n",
       "      <td>GENERAL HEALTH CONDITION</td>\n",
       "      <td>0.035866</td>\n",
       "    </tr>\n",
       "    <tr>\n",
       "      <th>51</th>\n",
       "      <td>LENGTH OF TIME LIVED AT CURRENT ADDRESS (MONTH...</td>\n",
       "      <td>0.033229</td>\n",
       "    </tr>\n",
       "    <tr>\n",
       "      <th>13</th>\n",
       "      <td># OF TIMES ATE VEGETABLES IN PAST MO</td>\n",
       "      <td>0.032576</td>\n",
       "    </tr>\n",
       "    <tr>\n",
       "      <th>10</th>\n",
       "      <td># TIMES ATE FRUIT IN PAST MO</td>\n",
       "      <td>0.032317</td>\n",
       "    </tr>\n",
       "    <tr>\n",
       "      <th>12</th>\n",
       "      <td># TIMES ATE COOKED DRIED BEANS IN PAST MONTH</td>\n",
       "      <td>0.031101</td>\n",
       "    </tr>\n",
       "    <tr>\n",
       "      <th>6</th>\n",
       "      <td># OF TIMES DRANK WATER YESTERDAY</td>\n",
       "      <td>0.030451</td>\n",
       "    </tr>\n",
       "  </tbody>\n",
       "</table>\n",
       "</div>"
      ],
      "text/plain": [
       "                                              feature  importance\n",
       "40                SELF-REPORTED AGE (PUF 1 YR RECODE)    0.051416\n",
       "52                           WEIGHT: LBS (PUF RECODE)    0.042661\n",
       "38   FAMILY POVERTY THRESHOLD LEVEL (PUF 1 YR RECODE)    0.040351\n",
       "20                   # OF TIMES SAW MD IN PAST 12 MOS    0.038542\n",
       "0                            GENERAL HEALTH CONDITION    0.035866\n",
       "51  LENGTH OF TIME LIVED AT CURRENT ADDRESS (MONTH...    0.033229\n",
       "13               # OF TIMES ATE VEGETABLES IN PAST MO    0.032576\n",
       "10                       # TIMES ATE FRUIT IN PAST MO    0.032317\n",
       "12       # TIMES ATE COOKED DRIED BEANS IN PAST MONTH    0.031101\n",
       "6                    # OF TIMES DRANK WATER YESTERDAY    0.030451"
      ]
     },
     "execution_count": 49,
     "metadata": {},
     "output_type": "execute_result"
    }
   ],
   "source": [
    "#RF Feature Importances\n",
    "feature_importances = pd.DataFrame()\n",
    "feature_importances[\"feature\"] = scaled_X_train.columns\n",
    "feature_importances[\"importance\"] = rf_model.feature_importances_\n",
    "feature_importances.sort_values(by='importance', ascending=False).head(10)"
   ]
  },
  {
   "cell_type": "markdown",
   "metadata": {},
   "source": [
    "3c: Logistic Regression"
   ]
  },
  {
   "cell_type": "code",
   "execution_count": 26,
   "metadata": {},
   "outputs": [
    {
     "name": "stdout",
     "output_type": "stream",
     "text": [
      "{'C': 0.01, 'class_weight': 'balanced', 'penalty': 'l1'}\n",
      "0.3592721868227618\n"
     ]
    }
   ],
   "source": [
    "#LR GridSearchCV\n",
    "c_space = [0.01, 0.1, 1, 10, 100, 1000]\n",
    "penalty_space = ['l1', 'l2']\n",
    "class_weight_space = ['balanced', None]\n",
    "param_grid = {'C': c_space, \n",
    "              'penalty': penalty_space, \n",
    "              'class_weight': class_weight_space}\n",
    "lr_tune = LogisticRegression(solver='liblinear')\n",
    "lr_cv = GridSearchCV(lr_tune, param_grid, cv=3, scoring=pr_auc)\n",
    "lr_cv.fit(scaled_X_train, y_train.values.ravel())\n",
    "print(lr_cv.best_params_)\n",
    "print(lr_cv.best_score_)"
   ]
  },
  {
   "cell_type": "code",
   "execution_count": 50,
   "metadata": {},
   "outputs": [
    {
     "name": "stdout",
     "output_type": "stream",
     "text": [
      "Confusion Matrix:\n",
      "[[ 283   78]\n",
      " [ 948 2921]]\n",
      "Classification Report\n",
      "              precision    recall  f1-score   support\n",
      "\n",
      "         1.0       0.23      0.78      0.36       361\n",
      "         2.0       0.97      0.75      0.85      3869\n",
      "\n",
      "   micro avg       0.76      0.76      0.76      4230\n",
      "   macro avg       0.60      0.77      0.60      4230\n",
      "weighted avg       0.91      0.76      0.81      4230\n",
      "\n"
     ]
    }
   ],
   "source": [
    "#Logistic Regression\n",
    "lr = LogisticRegression(C=0.01, penalty='l1', class_weight='balanced', solver='liblinear')\n",
    "lr_model = lr.fit(scaled_X_train, y_train.values.ravel())\n",
    "y_pred = lr_model.predict(scaled_X_test)\n",
    "y_prob = lr_model.predict_proba(scaled_X_test)\n",
    "\n",
    "print(\"Confusion Matrix:\")\n",
    "print(metrics.confusion_matrix(y_test, y_pred))\n",
    "\n",
    "print(\"Classification Report\")\n",
    "print(metrics.classification_report(y_test, y_pred))"
   ]
  },
  {
   "cell_type": "code",
   "execution_count": 51,
   "metadata": {},
   "outputs": [
    {
     "data": {
      "image/png": "[encoded data removed]",
      "text/plain": [
       "<Figure size 432x288 with 1 Axes>"
      ]
     },
     "metadata": {
      "needs_background": "light"
     },
     "output_type": "display_data"
    }
   ],
   "source": [
    "#LR Histogram of Probabilities\n",
    "plt.hist(y_prob[:,0], bins=10)\n",
    "plt.show()"
   ]
  },
  {
   "cell_type": "code",
   "execution_count": 52,
   "metadata": {},
   "outputs": [
    {
     "data": {
      "image/png": "[encoded data removed]",
      "text/plain": [
       "<Figure size 432x288 with 1 Axes>"
      ]
     },
     "metadata": {
      "needs_background": "light"
     },
     "output_type": "display_data"
    }
   ],
   "source": [
    "#LR ROC Curve\n",
    "probs = y_prob[:,0]\n",
    "fpr, tpr, threshold = metrics.roc_curve(y_test, probs, pos_label=1.)\n",
    "roc_auc = metrics.auc(fpr, tpr)\n",
    "\n",
    "plt.title('Receiver Operating Characteristic')\n",
    "plt.plot(fpr, tpr, 'b', label = 'AUC = %0.2f' % roc_auc)\n",
    "plt.legend(loc = 'lower right')\n",
    "plt.plot([0, 1], [0, 1],'r--')\n",
    "plt.xlim([0, 1])\n",
    "plt.ylim([0, 1])\n",
    "plt.ylabel('True Positive Rate')\n",
    "plt.xlabel('False Positive Rate')\n",
    "plt.show()"
   ]
  },
  {
   "cell_type": "code",
   "execution_count": 53,
   "metadata": {},
   "outputs": [
    {
     "data": {
      "image/png": "[encoded data removed]",
      "text/plain": [
       "<Figure size 432x288 with 1 Axes>"
      ]
     },
     "metadata": {
      "needs_background": "light"
     },
     "output_type": "display_data"
    }
   ],
   "source": [
    "#LR Precision Recall Curve\n",
    "probs = y_prob[:,0]\n",
    "precision, recall, thresholds = metrics.precision_recall_curve(y_test, probs, pos_label=1.)\n",
    "prc_auc = metrics.auc(recall, precision)\n",
    "\n",
    "plt.title(\"Precision Recall Curve\")\n",
    "plt.plot(recall, precision, label= 'AUC = %0.2f' % prc_auc)\n",
    "plt.legend(loc = 'lower left')\n",
    "plt.xlim([0,1])\n",
    "plt.ylim([0,1])\n",
    "plt.xlabel('Recall')\n",
    "plt.ylabel('Precision')\n",
    "plt.show()"
   ]
  },
  {
   "cell_type": "code",
   "execution_count": 54,
   "metadata": {},
   "outputs": [
    {
     "data": {
      "text/html": [
       "<div>\n",
       "<style scoped>\n",
       "    .dataframe tbody tr th:only-of-type {\n",
       "        vertical-align: middle;\n",
       "    }\n",
       "\n",
       "    .dataframe tbody tr th {\n",
       "        vertical-align: top;\n",
       "    }\n",
       "\n",
       "    .dataframe thead th {\n",
       "        text-align: right;\n",
       "    }\n",
       "</style>\n",
       "<table border=\"1\" class=\"dataframe\">\n",
       "  <thead>\n",
       "    <tr style=\"text-align: right;\">\n",
       "      <th></th>\n",
       "      <th>feature</th>\n",
       "      <th>importance</th>\n",
       "    </tr>\n",
       "  </thead>\n",
       "  <tbody>\n",
       "    <tr>\n",
       "      <th>40</th>\n",
       "      <td>SELF-REPORTED AGE (PUF 1 YR RECODE)</td>\n",
       "      <td>0.661732</td>\n",
       "    </tr>\n",
       "    <tr>\n",
       "      <th>0</th>\n",
       "      <td>GENERAL HEALTH CONDITION</td>\n",
       "      <td>0.374618</td>\n",
       "    </tr>\n",
       "    <tr>\n",
       "      <th>18</th>\n",
       "      <td>DELAY/NOT GET OTHER MEDICAL CARE IN PAST 12 MOS</td>\n",
       "      <td>0.230001</td>\n",
       "    </tr>\n",
       "    <tr>\n",
       "      <th>49</th>\n",
       "      <td>SELF-REPORTED GENDER</td>\n",
       "      <td>0.160739</td>\n",
       "    </tr>\n",
       "    <tr>\n",
       "      <th>72</th>\n",
       "      <td>MARITAL STATUS- 4 CATEGORIES_1.0</td>\n",
       "      <td>0.146461</td>\n",
       "    </tr>\n",
       "    <tr>\n",
       "      <th>3</th>\n",
       "      <td>EVER TRIED MARIJUANA OR HASHISH</td>\n",
       "      <td>0.142452</td>\n",
       "    </tr>\n",
       "    <tr>\n",
       "      <th>28</th>\n",
       "      <td>HOW OFTEN FEEL SAFE IN NEIGHBORHOOD</td>\n",
       "      <td>0.125172</td>\n",
       "    </tr>\n",
       "    <tr>\n",
       "      <th>7</th>\n",
       "      <td>EVER SMOKED ELECTRONIC CIGARETTES</td>\n",
       "      <td>0.122219</td>\n",
       "    </tr>\n",
       "    <tr>\n",
       "      <th>21</th>\n",
       "      <td>EVER HAD PROBLEMS PAYING FOR SELF OR HOUSEHOLD...</td>\n",
       "      <td>0.109163</td>\n",
       "    </tr>\n",
       "    <tr>\n",
       "      <th>73</th>\n",
       "      <td>MARITAL STATUS- 4 CATEGORIES_2.0</td>\n",
       "      <td>0.105924</td>\n",
       "    </tr>\n",
       "  </tbody>\n",
       "</table>\n",
       "</div>"
      ],
      "text/plain": [
       "                                              feature  importance\n",
       "40                SELF-REPORTED AGE (PUF 1 YR RECODE)    0.661732\n",
       "0                            GENERAL HEALTH CONDITION    0.374618\n",
       "18    DELAY/NOT GET OTHER MEDICAL CARE IN PAST 12 MOS    0.230001\n",
       "49                               SELF-REPORTED GENDER    0.160739\n",
       "72                   MARITAL STATUS- 4 CATEGORIES_1.0    0.146461\n",
       "3                     EVER TRIED MARIJUANA OR HASHISH    0.142452\n",
       "28                HOW OFTEN FEEL SAFE IN NEIGHBORHOOD    0.125172\n",
       "7                   EVER SMOKED ELECTRONIC CIGARETTES    0.122219\n",
       "21  EVER HAD PROBLEMS PAYING FOR SELF OR HOUSEHOLD...    0.109163\n",
       "73                   MARITAL STATUS- 4 CATEGORIES_2.0    0.105924"
      ]
     },
     "execution_count": 54,
     "metadata": {},
     "output_type": "execute_result"
    }
   ],
   "source": [
    "#LR Feature importances\n",
    "feature_importances = pd.DataFrame()\n",
    "feature_importances[\"feature\"] = scaled_X_train.columns\n",
    "feature_importances[\"importance\"] = list(abs(lr.coef_[0]))\n",
    "feature_importances.sort_values(by='importance', ascending=False).head(10)"
   ]
  },
  {
   "cell_type": "markdown",
   "metadata": {},
   "source": [
    "3d: K-Nearest Neighbors"
   ]
  },
  {
   "cell_type": "code",
   "execution_count": 32,
   "metadata": {},
   "outputs": [
    {
     "name": "stdout",
     "output_type": "stream",
     "text": [
      "{'n_neighbors': 500}\n",
      "0.3034583764029608\n"
     ]
    }
   ],
   "source": [
    "#KNN GridSearchCV\n",
    "neighbors_space = [10, 100, 500, 1000]\n",
    "param_grid = {'n_neighbors': neighbors_space}\n",
    "knn_tune = KNeighborsClassifier()\n",
    "knn_cv = GridSearchCV(knn_tune, param_grid, cv=3, scoring=pr_auc)\n",
    "knn_cv.fit(scaled_X_train, y_train.values.ravel())\n",
    "print(knn_cv.best_params_)\n",
    "print(knn_cv.best_score_)"
   ]
  },
  {
   "cell_type": "code",
   "execution_count": 55,
   "metadata": {},
   "outputs": [
    {
     "name": "stdout",
     "output_type": "stream",
     "text": [
      "Confusion Matrix:\n",
      "[[   0  361]\n",
      " [   0 3869]]\n",
      "Classification Report\n",
      "              precision    recall  f1-score   support\n",
      "\n",
      "         1.0       0.00      0.00      0.00       361\n",
      "         2.0       0.91      1.00      0.96      3869\n",
      "\n",
      "   micro avg       0.91      0.91      0.91      4230\n",
      "   macro avg       0.46      0.50      0.48      4230\n",
      "weighted avg       0.84      0.91      0.87      4230\n",
      "\n"
     ]
    },
    {
     "name": "stderr",
     "output_type": "stream",
     "text": [
      "/Users/jaredhammernik/anaconda3/lib/python3.7/site-packages/sklearn/metrics/classification.py:1143: UndefinedMetricWarning: Precision and F-score are ill-defined and being set to 0.0 in labels with no predicted samples.\n",
      "  'precision', 'predicted', average, warn_for)\n",
      "/Users/jaredhammernik/anaconda3/lib/python3.7/site-packages/sklearn/metrics/classification.py:1143: UndefinedMetricWarning: Precision and F-score are ill-defined and being set to 0.0 in labels with no predicted samples.\n",
      "  'precision', 'predicted', average, warn_for)\n",
      "/Users/jaredhammernik/anaconda3/lib/python3.7/site-packages/sklearn/metrics/classification.py:1143: UndefinedMetricWarning: Precision and F-score are ill-defined and being set to 0.0 in labels with no predicted samples.\n",
      "  'precision', 'predicted', average, warn_for)\n"
     ]
    }
   ],
   "source": [
    "#KNN\n",
    "knn = KNeighborsClassifier(n_neighbors=500)\n",
    "knn_model = knn.fit(scaled_X_train, y_train.values.ravel())\n",
    "y_pred = knn_model.predict(scaled_X_test)\n",
    "y_prob = knn_model.predict_proba(scaled_X_test)\n",
    "\n",
    "print(\"Confusion Matrix:\")\n",
    "print(metrics.confusion_matrix(y_test, y_pred))\n",
    "\n",
    "print(\"Classification Report\")\n",
    "print(metrics.classification_report(y_test, y_pred))"
   ]
  },
  {
   "cell_type": "code",
   "execution_count": 56,
   "metadata": {},
   "outputs": [
    {
     "data": {
      "image/png": "[encoded data removed]",
      "text/plain": [
       "<Figure size 432x288 with 1 Axes>"
      ]
     },
     "metadata": {
      "needs_background": "light"
     },
     "output_type": "display_data"
    }
   ],
   "source": [
    "#KNN Histogram of Probabilities\n",
    "plt.hist(y_prob[:,0], bins=10)\n",
    "plt.show()"
   ]
  },
  {
   "cell_type": "code",
   "execution_count": 57,
   "metadata": {},
   "outputs": [
    {
     "data": {
      "image/png": "[encoded data removed]",
      "text/plain": [
       "<Figure size 432x288 with 1 Axes>"
      ]
     },
     "metadata": {
      "needs_background": "light"
     },
     "output_type": "display_data"
    }
   ],
   "source": [
    "#KNN ROC Curve\n",
    "probs = y_prob[:,0]\n",
    "fpr, tpr, threshold = metrics.roc_curve(y_test, probs, pos_label=1.)\n",
    "roc_auc = metrics.auc(fpr, tpr)\n",
    "\n",
    "plt.title('Receiver Operating Characteristic')\n",
    "plt.plot(fpr, tpr, 'b', label = 'AUC = %0.2f' % roc_auc)\n",
    "plt.legend(loc = 'lower right')\n",
    "plt.plot([0, 1], [0, 1],'r--')\n",
    "plt.xlim([0, 1])\n",
    "plt.ylim([0, 1])\n",
    "plt.ylabel('True Positive Rate')\n",
    "plt.xlabel('False Positive Rate')\n",
    "plt.show()"
   ]
  },
  {
   "cell_type": "code",
   "execution_count": 58,
   "metadata": {},
   "outputs": [
    {
     "data": {
      "image/png": "[encoded data removed]",
      "text/plain": [
       "<Figure size 432x288 with 1 Axes>"
      ]
     },
     "metadata": {
      "needs_background": "light"
     },
     "output_type": "display_data"
    }
   ],
   "source": [
    "#KNN Precision Recall Curve\n",
    "probs = y_prob[:,0]\n",
    "precision, recall, thresholds = metrics.precision_recall_curve(y_test, probs, pos_label=1.)\n",
    "prc_auc = metrics.auc(recall, precision)\n",
    "\n",
    "plt.title(\"Precision Recall Curve\")\n",
    "plt.plot(recall, precision, label= 'AUC = %0.2f' % prc_auc)\n",
    "plt.legend(loc = 'lower left')\n",
    "plt.xlim([0,1])\n",
    "plt.ylim([0,1])\n",
    "plt.xlabel('Recall')\n",
    "plt.ylabel('Precision')\n",
    "plt.show()"
   ]
  },
  {
   "cell_type": "code",
   "execution_count": null,
   "metadata": {},
   "outputs": [],
   "source": [
    "# No feature importances for KNN"
   ]
  },
  {
   "cell_type": "markdown",
   "metadata": {},
   "source": [
    "3e: Gradient Boosting"
   ]
  },
  {
   "cell_type": "code",
   "execution_count": 37,
   "metadata": {},
   "outputs": [
    {
     "name": "stdout",
     "output_type": "stream",
     "text": [
      "{'learning_rate': 0.1, 'loss': 'deviance', 'max_features': 10, 'n_estimators': 100}\n",
      "0.3608229837955651\n"
     ]
    }
   ],
   "source": [
    "#GB GridSearchCV\n",
    "n_estimator_space = [100, 200, 500, 700]\n",
    "max_features_space = [2, 5, 10, 20]\n",
    "learning_rate_space = [0.01, 0.1, 0.5,  1]\n",
    "loss_space = ['deviance', 'exponential']\n",
    "\n",
    "param_grid = {'n_estimators': n_estimator_space, \n",
    "              'max_features': max_features_space, \n",
    "              'learning_rate': learning_rate_space, \n",
    "              'loss': loss_space}\n",
    "gb_tune = GradientBoostingClassifier(random_state=42)\n",
    "gb_cv = GridSearchCV(gb_tune, param_grid, cv=3, scoring=pr_auc)\n",
    "gb_cv.fit(scaled_X_train, y_train.values.ravel())\n",
    "print(gb_cv.best_params_)\n",
    "print(gb_cv.best_score_)"
   ]
  },
  {
   "cell_type": "code",
   "execution_count": 59,
   "metadata": {},
   "outputs": [
    {
     "name": "stdout",
     "output_type": "stream",
     "text": [
      "Confusion Matrix:\n",
      "[[  41  320]\n",
      " [  42 3827]]\n",
      "Classification Report\n",
      "              precision    recall  f1-score   support\n",
      "\n",
      "         1.0       0.49      0.11      0.18       361\n",
      "         2.0       0.92      0.99      0.95      3869\n",
      "\n",
      "   micro avg       0.91      0.91      0.91      4230\n",
      "   macro avg       0.71      0.55      0.57      4230\n",
      "weighted avg       0.89      0.91      0.89      4230\n",
      "\n"
     ]
    }
   ],
   "source": [
    "#Gradient Boosting\n",
    "gb = GradientBoostingClassifier(n_estimators=100, \n",
    "                                learning_rate=0.1, \n",
    "                                loss='deviance', \n",
    "                                max_features=10, \n",
    "                                random_state=42)\n",
    "gb_model = gb.fit(scaled_X_train, y_train.values.ravel())\n",
    "y_pred = gb_model.predict(scaled_X_test)\n",
    "y_prob = gb_model.predict_proba(scaled_X_test)\n",
    "\n",
    "print(\"Confusion Matrix:\")\n",
    "print(metrics.confusion_matrix(y_test, y_pred))\n",
    "\n",
    "print(\"Classification Report\")\n",
    "print(metrics.classification_report(y_test, y_pred))"
   ]
  },
  {
   "cell_type": "code",
   "execution_count": 60,
   "metadata": {},
   "outputs": [
    {
     "data": {
      "image/png": "[encoded data removed]",
      "text/plain": [
       "<Figure size 432x288 with 1 Axes>"
      ]
     },
     "metadata": {
      "needs_background": "light"
     },
     "output_type": "display_data"
    }
   ],
   "source": [
    "#GB Histogram of Probabilities\n",
    "plt.hist(y_prob[:,0], bins=10)\n",
    "plt.show()"
   ]
  },
  {
   "cell_type": "code",
   "execution_count": 61,
   "metadata": {},
   "outputs": [
    {
     "data": {
      "image/png": "[encoded data removed]",
      "text/plain": [
       "<Figure size 432x288 with 1 Axes>"
      ]
     },
     "metadata": {
      "needs_background": "light"
     },
     "output_type": "display_data"
    }
   ],
   "source": [
    "#GB ROC Curve\n",
    "probs = y_prob[:,0]\n",
    "fpr, tpr, threshold = metrics.roc_curve(y_test, probs, pos_label=1.)\n",
    "roc_auc = metrics.auc(fpr, tpr)\n",
    "\n",
    "plt.title('Receiver Operating Characteristic')\n",
    "plt.plot(fpr, tpr, 'b', label = 'AUC = %0.2f' % roc_auc)\n",
    "plt.legend(loc = 'lower right')\n",
    "plt.plot([0, 1], [0, 1],'r--')\n",
    "plt.xlim([0, 1])\n",
    "plt.ylim([0, 1])\n",
    "plt.ylabel('True Positive Rate')\n",
    "plt.xlabel('False Positive Rate')\n",
    "plt.show()"
   ]
  },
  {
   "cell_type": "code",
   "execution_count": 62,
   "metadata": {},
   "outputs": [
    {
     "data": {
      "image/png": "[encoded data removed]",
      "text/plain": [
       "<Figure size 432x288 with 1 Axes>"
      ]
     },
     "metadata": {
      "needs_background": "light"
     },
     "output_type": "display_data"
    }
   ],
   "source": [
    "#GB Precision Recall Curve\n",
    "probs = y_prob[:,0]\n",
    "precision, recall, thresholds = metrics.precision_recall_curve(y_test, probs, pos_label=1.)\n",
    "prc_auc = metrics.auc(recall, precision)\n",
    "\n",
    "plt.title(\"Precision Recall Curve\")\n",
    "plt.plot(recall, precision, label= 'AUC = %0.2f' % prc_auc)\n",
    "plt.legend(loc = 'lower left')\n",
    "plt.xlim([0,1])\n",
    "plt.ylim([0,1])\n",
    "plt.xlabel('Recall')\n",
    "plt.ylabel('Precision')\n",
    "plt.show()"
   ]
  },
  {
   "cell_type": "code",
   "execution_count": 63,
   "metadata": {},
   "outputs": [
    {
     "data": {
      "text/html": [
       "<div>\n",
       "<style scoped>\n",
       "    .dataframe tbody tr th:only-of-type {\n",
       "        vertical-align: middle;\n",
       "    }\n",
       "\n",
       "    .dataframe tbody tr th {\n",
       "        vertical-align: top;\n",
       "    }\n",
       "\n",
       "    .dataframe thead th {\n",
       "        text-align: right;\n",
       "    }\n",
       "</style>\n",
       "<table border=\"1\" class=\"dataframe\">\n",
       "  <thead>\n",
       "    <tr style=\"text-align: right;\">\n",
       "      <th></th>\n",
       "      <th>feature</th>\n",
       "      <th>importance</th>\n",
       "    </tr>\n",
       "  </thead>\n",
       "  <tbody>\n",
       "    <tr>\n",
       "      <th>0</th>\n",
       "      <td>GENERAL HEALTH CONDITION</td>\n",
       "      <td>0.123560</td>\n",
       "    </tr>\n",
       "    <tr>\n",
       "      <th>40</th>\n",
       "      <td>SELF-REPORTED AGE (PUF 1 YR RECODE)</td>\n",
       "      <td>0.115419</td>\n",
       "    </tr>\n",
       "    <tr>\n",
       "      <th>18</th>\n",
       "      <td>DELAY/NOT GET OTHER MEDICAL CARE IN PAST 12 MOS</td>\n",
       "      <td>0.097652</td>\n",
       "    </tr>\n",
       "    <tr>\n",
       "      <th>7</th>\n",
       "      <td>EVER SMOKED ELECTRONIC CIGARETTES</td>\n",
       "      <td>0.094165</td>\n",
       "    </tr>\n",
       "    <tr>\n",
       "      <th>21</th>\n",
       "      <td>EVER HAD PROBLEMS PAYING FOR SELF OR HOUSEHOLD...</td>\n",
       "      <td>0.042171</td>\n",
       "    </tr>\n",
       "    <tr>\n",
       "      <th>20</th>\n",
       "      <td># OF TIMES SAW MD IN PAST 12 MOS</td>\n",
       "      <td>0.036883</td>\n",
       "    </tr>\n",
       "    <tr>\n",
       "      <th>79</th>\n",
       "      <td>SELF-REPORTED HOUSEHOLD TENURE (HH)_2.0</td>\n",
       "      <td>0.033323</td>\n",
       "    </tr>\n",
       "    <tr>\n",
       "      <th>38</th>\n",
       "      <td>FAMILY POVERTY THRESHOLD LEVEL (PUF 1 YR RECODE)</td>\n",
       "      <td>0.033204</td>\n",
       "    </tr>\n",
       "    <tr>\n",
       "      <th>17</th>\n",
       "      <td>DELAY/NOT GET PRESCRIPTION IN PAST 12 MO</td>\n",
       "      <td>0.029938</td>\n",
       "    </tr>\n",
       "    <tr>\n",
       "      <th>74</th>\n",
       "      <td>MARITAL STATUS- 4 CATEGORIES_4.0</td>\n",
       "      <td>0.029573</td>\n",
       "    </tr>\n",
       "  </tbody>\n",
       "</table>\n",
       "</div>"
      ],
      "text/plain": [
       "                                              feature  importance\n",
       "0                            GENERAL HEALTH CONDITION    0.123560\n",
       "40                SELF-REPORTED AGE (PUF 1 YR RECODE)    0.115419\n",
       "18    DELAY/NOT GET OTHER MEDICAL CARE IN PAST 12 MOS    0.097652\n",
       "7                   EVER SMOKED ELECTRONIC CIGARETTES    0.094165\n",
       "21  EVER HAD PROBLEMS PAYING FOR SELF OR HOUSEHOLD...    0.042171\n",
       "20                   # OF TIMES SAW MD IN PAST 12 MOS    0.036883\n",
       "79            SELF-REPORTED HOUSEHOLD TENURE (HH)_2.0    0.033323\n",
       "38   FAMILY POVERTY THRESHOLD LEVEL (PUF 1 YR RECODE)    0.033204\n",
       "17           DELAY/NOT GET PRESCRIPTION IN PAST 12 MO    0.029938\n",
       "74                   MARITAL STATUS- 4 CATEGORIES_4.0    0.029573"
      ]
     },
     "execution_count": 63,
     "metadata": {},
     "output_type": "execute_result"
    }
   ],
   "source": [
    "#GB Feature Importances\n",
    "feature_importances = pd.DataFrame()\n",
    "feature_importances[\"feature\"] = scaled_X_train.columns\n",
    "feature_importances[\"importance\"] = gb_model.feature_importances_\n",
    "feature_importances.sort_values(by='importance', ascending=False).head(10)"
   ]
  },
  {
   "cell_type": "markdown",
   "metadata": {},
   "source": [
    "3f: Ensemble Voting Classifier"
   ]
  },
  {
   "cell_type": "code",
   "execution_count": 68,
   "metadata": {},
   "outputs": [
    {
     "name": "stdout",
     "output_type": "stream",
     "text": [
      "Confusion Matrix:\n",
      "[[  31  330]\n",
      " [  31 3838]]\n",
      "Classification Report\n",
      "              precision    recall  f1-score   support\n",
      "\n",
      "         1.0       0.50      0.09      0.15       361\n",
      "         2.0       0.92      0.99      0.96      3869\n",
      "\n",
      "   micro avg       0.91      0.91      0.91      4230\n",
      "   macro avg       0.71      0.54      0.55      4230\n",
      "weighted avg       0.88      0.91      0.89      4230\n",
      "\n"
     ]
    }
   ],
   "source": [
    "#VotingClassisfier\n",
    "vc = VotingClassifier(estimators=[('rf', rf), ('gb', gb), ('lr', lr), ('knn', knn)], voting='soft')\n",
    "vc.fit(scaled_X_train, y_train.values.ravel())\n",
    "y_pred = vc.predict(scaled_X_test)\n",
    "y_prob = vc.predict_proba(scaled_X_test)\n",
    "\n",
    "print(\"Confusion Matrix:\")\n",
    "print(metrics.confusion_matrix(y_test, y_pred))\n",
    "\n",
    "print(\"Classification Report\")\n",
    "print(metrics.classification_report(y_test, y_pred))"
   ]
  },
  {
   "cell_type": "code",
   "execution_count": 69,
   "metadata": {},
   "outputs": [
    {
     "data": {
      "image/png": "[encoded data removed]",
      "text/plain": [
       "<Figure size 432x288 with 1 Axes>"
      ]
     },
     "metadata": {
      "needs_background": "light"
     },
     "output_type": "display_data"
    }
   ],
   "source": [
    "#VC ROC Curve\n",
    "probs = y_prob[:,0]\n",
    "fpr, tpr, threshold = metrics.roc_curve(y_test, probs, pos_label=1.)\n",
    "roc_auc = metrics.auc(fpr, tpr)\n",
    "\n",
    "plt.title('Receiver Operating Characteristic')\n",
    "plt.plot(fpr, tpr, 'b', label = 'AUC = %0.2f' % roc_auc)\n",
    "plt.legend(loc = 'lower right')\n",
    "plt.plot([0, 1], [0, 1],'r--')\n",
    "plt.xlim([0, 1])\n",
    "plt.ylim([0, 1])\n",
    "plt.ylabel('True Positive Rate')\n",
    "plt.xlabel('False Positive Rate')\n",
    "plt.show()"
   ]
  },
  {
   "cell_type": "code",
   "execution_count": 70,
   "metadata": {},
   "outputs": [
    {
     "data": {
      "image/png": "[encoded data removed]",
      "text/plain": [
       "<Figure size 432x288 with 1 Axes>"
      ]
     },
     "metadata": {
      "needs_background": "light"
     },
     "output_type": "display_data"
    }
   ],
   "source": [
    "#VC Precision Recall Curve\n",
    "probs = y_prob[:,0]\n",
    "precision, recall, thresholds = metrics.precision_recall_curve(y_test, probs, pos_label=1.)\n",
    "prc_auc = metrics.auc(recall, precision)\n",
    "\n",
    "plt.title(\"Precision Recall Curve\")\n",
    "plt.plot(recall, precision, label= 'AUC = %0.2f' % prc_auc)\n",
    "plt.legend(loc = 'lower left')\n",
    "plt.xlim([0,1])\n",
    "plt.ylim([0,1])\n",
    "plt.xlabel('Recall')\n",
    "plt.ylabel('Precision')\n",
    "plt.show()"
   ]
  },
  {
   "cell_type": "markdown",
   "metadata": {},
   "source": [
    "Step 4: Conclusion and Next Steps"
   ]
  },
  {
   "cell_type": "code",
   "execution_count": null,
   "metadata": {},
   "outputs": [],
   "source": [
    "#"
   ]
  }
 ],
 "metadata": {
  "kernelspec": {
   "display_name": "Python 3",
   "language": "python",
   "name": "python3"
  },
  "language_info": {
   "codemirror_mode": {
    "name": "ipython",
    "version": 3
   },
   "file_extension": ".py",
   "mimetype": "text/x-python",
   "name": "python",
   "nbconvert_exporter": "python",
   "pygments_lexer": "ipython3",
   "version": "3.7.1"
  }
 },
 "nbformat": 4,
 "nbformat_minor": 2
}
